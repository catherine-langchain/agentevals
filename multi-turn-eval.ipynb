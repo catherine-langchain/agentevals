{
 "cells": [
  {
   "cell_type": "markdown",
   "id": "0579d627",
   "metadata": {},
   "source": [
    "## Evaluating Trajectory with AgentEvals"
   ]
  },
  {
   "cell_type": "markdown",
   "id": "1da7c4d4-dcaa-4acb-8e9f-554fa7ed8546",
   "metadata": {},
   "source": [
    "### Customer Support Agent Example"
   ]
  },
  {
   "cell_type": "markdown",
   "id": "6364e8b5-0485-489a-9b28-3a286b957c67",
   "metadata": {},
   "source": [
    "Loading Environment Variables"
   ]
  },
  {
   "cell_type": "code",
   "execution_count": 4,
   "id": "dfa2a11f-b465-4466-a418-b34446cf6e38",
   "metadata": {},
   "outputs": [
    {
     "data": {
      "text/plain": [
       "True"
      ]
     },
     "execution_count": 4,
     "metadata": {},
     "output_type": "execute_result"
    }
   ],
   "source": [
    "from dotenv import load_dotenv\n",
    "\n",
    "load_dotenv(dotenv_path=\"./.env\", override=True)"
   ]
  },
  {
   "cell_type": "markdown",
   "id": "f5573cb9-5b8d-4d3e-aa6d-18a356f741d2",
   "metadata": {},
   "source": [
    "#### Loading sample customer data\n",
    "\n",
    "The agent utilizes the [Chinook database](https://www.sqlitetutorial.net/sqlite-sample-database/), which contains sample information on customer information, purchase history, and music catalog. "
   ]
  },
  {
   "cell_type": "code",
   "execution_count": 5,
   "id": "a445b640-eb16-4b9c-adb8-ff09d96eb478",
   "metadata": {},
   "outputs": [],
   "source": [
    "import sqlite3\n",
    "import requests\n",
    "from langchain_community.utilities.sql_database import SQLDatabase\n",
    "from sqlalchemy import create_engine\n",
    "from sqlalchemy.pool import StaticPool\n",
    "\n",
    "def get_engine_for_chinook_db():\n",
    "    \"\"\"Pull sql file, populate in-memory database, and create engine.\"\"\"\n",
    "    url = \"https://raw.githubusercontent.com/lerocha/chinook-database/master/ChinookDatabase/DataSources/Chinook_Sqlite.sql\"\n",
    "    response = requests.get(url)\n",
    "    sql_script = response.text\n",
    "\n",
    "    connection = sqlite3.connect(\":memory:\", check_same_thread=False)\n",
    "    connection.executescript(sql_script)\n",
    "    return create_engine(\n",
    "        \"sqlite://\",\n",
    "        creator=lambda: connection,\n",
    "        poolclass=StaticPool,\n",
    "        connect_args={\"check_same_thread\": False},\n",
    "    )\n",
    "\n",
    "engine = get_engine_for_chinook_db()\n",
    "db = SQLDatabase(engine)"
   ]
  },
  {
   "cell_type": "markdown",
   "id": "b11e0d63-2dec-4b63-bb1b-7e4e1233a303",
   "metadata": {},
   "source": [
    "#### Tools\n",
    "We create a list of tools for our example agent, giving it capabilities to fetch invoice and customer-related information"
   ]
  },
  {
   "cell_type": "code",
   "execution_count": 80,
   "id": "39d35e02-a821-469d-96e5-478f1d48540d",
   "metadata": {},
   "outputs": [],
   "source": [
    "from langchain_core.tools import tool\n",
    "from typing import Optional\n",
    "\n",
    "@tool \n",
    "def get_invoices_by_customer_sorted_by_date(customer_id: str) -> list[dict]:\n",
    "    \"\"\"\n",
    "    Look up all invoices for a customer using their ID.\n",
    "    The invoices are sorted in descending order by invoice date, which helps when the customer wants to view their most recent/oldest invoice, or if \n",
    "    they want to view invoices within a specific date range.\n",
    "    \n",
    "    Args:\n",
    "        customer_id (str): customer_id, which serves as the identifier.\n",
    "    \n",
    "    Returns:\n",
    "        list[dict]: A list of invoices for the customer.\n",
    "    \"\"\"\n",
    "    return db.run(f\"SELECT * FROM Invoice WHERE CustomerId = {customer_id} ORDER BY InvoiceDate DESC;\")\n",
    "\n",
    "\n",
    "@tool \n",
    "def get_invoices_sorted_by_unit_price(customer_id: str) -> list[dict]:\n",
    "    \"\"\"\n",
    "    Use this tool when the customer wants to know the details of one of their invoices based on the unit price/cost of the invoice.\n",
    "    This tool looks up all invoices for a customer, and sorts the unit price from highest to lowest. In order to find the invoice associated with the customer, \n",
    "    we need to know the customer ID.\n",
    "    \n",
    "    Args:\n",
    "        customer_id (str): customer_id, which serves as the identifier.\n",
    "    \n",
    "    Returns:\n",
    "        list[dict]: A list of invoices sorted by unit price.\n",
    "    \"\"\"\n",
    "    query = f\"\"\"\n",
    "        SELECT Invoice.*, InvoiceLine.UnitPrice\n",
    "        FROM Invoice\n",
    "        JOIN InvoiceLine ON Invoice.InvoiceId = InvoiceLine.InvoiceId\n",
    "        WHERE Invoice.CustomerId = {customer_id}\n",
    "        ORDER BY InvoiceLine.UnitPrice DESC;\n",
    "    \"\"\"\n",
    "    return db.run(query)\n",
    "\n",
    "\n",
    "\n",
    "@tool\n",
    "def get_employee_by_invoice_and_customer(invoice_id: str, customer_id: str) -> dict:\n",
    "    \"\"\"\n",
    "    This tool will take in an invoice ID and a customer ID and return the employee information associated with the invoice.\n",
    "\n",
    "    Args:\n",
    "        invoice_id (int): The ID of the specific invoice.\n",
    "        customer_id (str): customer_id, which serves as the identifier.\n",
    "\n",
    "    Returns:\n",
    "        dict: Information about the employee associated with the invoice.\n",
    "    \"\"\"\n",
    "\n",
    "    query = f\"\"\"\n",
    "        SELECT Employee.FirstName, Employee.Title, Employee.Email\n",
    "        FROM Employee\n",
    "        JOIN Customer ON Customer.SupportRepId = Employee.EmployeeId\n",
    "        JOIN Invoice ON Invoice.CustomerId = Customer.CustomerId\n",
    "        WHERE Invoice.InvoiceId = ({invoice_id}) AND Invoice.CustomerId = ({customer_id});\n",
    "    \"\"\"\n",
    "    \n",
    "    employee_info = db.run(query, include_columns=True)\n",
    "    \n",
    "    if not employee_info:\n",
    "        return f\"No employee found for invoice ID {invoice_id} and customer identifier {customer_id}.\"\n",
    "    return employee_info\n",
    "\n",
    "\n",
    "@tool \n",
    "def refund_invoice(invoice_id: str, customer_id: str) -> dict:\n",
    "    \"\"\"\n",
    "    Handles refund for invoices. Certain criteria must be checked for a invoice to be refunded before invoking this tool, \n",
    "    such as whether the customer has a valid reason for refund. \n",
    "    \n",
    "    Args:\n",
    "        invoice_id (str): invoice_id\n",
    "        customer_id (str): ID of the customer\n",
    "    \n",
    "    Returns:\n",
    "        dict: Status of refund\n",
    "    \"\"\"\n",
    "\n",
    "    # dummy tool\n",
    "    return f\"Invoice {invoice_id} has been refunded.\"\n",
    "\n",
    "\n",
    "\n",
    "@tool\n",
    "def update_customer_info(identifier: str, updates: dict):\n",
    "    \"\"\"\n",
    "    Update a specific field(s) of a customer's record in the database.\n",
    "    If the customer wants to update their address, city, state, country, or postal code, \n",
    "    make sure to ask them for the full address (street, city, state, country, and postal code).\n",
    "    Do not make up the other fields. Get all of the fields from the customer associated with their new location and then update all of the fields in the database.\n",
    "\n",
    "    Args:\n",
    "        identifier (str): The customer identifier can be customer ID, email, or phone.\n",
    "        updates (dict): A dictionary of field names and their corresponding new values. For example: {\"Address\": \"594 Broadway\", \"City\": \"New York\", \"State\": \"NY\", \"Country\": \"USA\", \"PostalCode\": \"10016\"}\n",
    "\n",
    "    Returns:\n",
    "        str: Success message or error message.\n",
    "    \"\"\"\n",
    "    customer_id = get_customer_id_from_identifier(identifier)\n",
    "\n",
    "    # Simple implementation \n",
    "    return f\"Successfully updated for customer with identifier: {identifier}\"\n",
    "\n",
    "customer_support_tools = [get_invoices_by_customer_sorted_by_date, get_invoices_sorted_by_unit_price, get_employee_by_invoice_and_customer, refund_invoice, update_customer_info]"
   ]
  },
  {
   "cell_type": "markdown",
   "id": "30929e26-4492-4860-839e-747ce49c7acd",
   "metadata": {},
   "source": [
    "#### Prompt instructions"
   ]
  },
  {
   "cell_type": "code",
   "execution_count": 98,
   "id": "be5110ed-65b3-44a9-9377-655bbfe76d49",
   "metadata": {},
   "outputs": [],
   "source": [
    "AGENT_PROMPT = \"\"\"\n",
    "    You are a customer support agent specialized for handling and processing invoice and customer information. \n",
    "    \n",
    "    If you need additional information, such as customer id, to retrieve the invoice or account information, \n",
    "    inform the customer you are unable to retrieve the information, and ask for any needed info.\n",
    "\n",
    "    If a customer is looking for a refund, they must first provide a reason for refund. If you decide that \n",
    "    their reasoning is valid, then proceed to call the refund tool. Examples of valid reason of purchase include but \n",
    "    are not limited to - purchase date was within 30 days, or quality issue. \n",
    "    Do not share the criteria for valid refund with the customer, only tell them why they may or may not be eligible \n",
    "    for a refund after they give their reason. \n",
    "\n",
    "    Before ending a conversation, always ask the customer if there are additional issues or items that you can help with.\n",
    "\n",
    "    \n",
    "    CORE RESPONSIBILITIES:\n",
    "    - Retrieve and process invoice information from the database\n",
    "    - Provide detailed information including customer details, invoice dates, total amounts, employees associated, when the customer asks for it.\n",
    "    - Always maintain a professional, friendly, and patient demeanor\n",
    "    \n",
    "    You may have additional conversation history that you should use to help answer the customer's query. It will be provided to you. \n",
    "    \"\"\""
   ]
  },
  {
   "cell_type": "markdown",
   "id": "665a5a80-995e-44ba-9e03-02be07056ca0",
   "metadata": {},
   "source": [
    "#### Create simple react agent"
   ]
  },
  {
   "cell_type": "code",
   "execution_count": 99,
   "id": "46c0d187-5831-42b0-a15b-a9fac08100e1",
   "metadata": {},
   "outputs": [
    {
     "data": {
      "image/png": "[encoded data removed]",
      "text/plain": [
       "<IPython.core.display.Image object>"
      ]
     },
     "metadata": {},
     "output_type": "display_data"
    }
   ],
   "source": [
    "from langgraph.prebuilt import create_react_agent\n",
    "from IPython.display import Image, display\n",
    "from langchain_openai import ChatOpenAI\n",
    "from langgraph.checkpoint.memory import MemorySaver\n",
    "\n",
    "\n",
    "model = ChatOpenAI(model=\"o3-mini\")\n",
    "checkpointer = MemorySaver()\n",
    "\n",
    "\n",
    "# Define the agent \n",
    "customer_support_agent = create_react_agent(\n",
    "    model,\n",
    "    tools = customer_support_tools,\n",
    "    prompt=AGENT_PROMPT,\n",
    "    checkpointer=checkpointer\n",
    ")\n",
    "\n",
    "# Visualize the graph\n",
    "display(Image(customer_support_agent.get_graph().draw_mermaid_png()))"
   ]
  },
  {
   "cell_type": "markdown",
   "id": "924178cf-d978-49d0-9940-9f97974f7263",
   "metadata": {},
   "source": [
    "## Running multi-turn evaluation"
   ]
  },
  {
   "cell_type": "code",
   "execution_count": 9,
   "id": "0144a0c9-0cd3-41bd-8e3c-ae077a72a3b5",
   "metadata": {},
   "outputs": [
    {
     "name": "stdout",
     "output_type": "stream",
     "text": [
      "================================\u001b[1m Human Message \u001b[0m=================================\n",
      "\n",
      "Please give me a refund.\n",
      "==================================\u001b[1m Ai Message \u001b[0m==================================\n",
      "\n",
      "Could you please provide a reason for the refund request? I'd be happy to check if you're eligible based on your reason.\n"
     ]
    }
   ],
   "source": [
    "import uuid\n",
    "thread_id = uuid.uuid4()\n",
    "\n",
    "config = {\"configurable\": {\"thread_id\": thread_id}}\n",
    "initial_trajectory = {\"messages\": [{\"role\": \"user\", \"content\": \"Please give me a refund.\"}]}\n",
    "\n",
    "result = customer_support_agent.invoke(initial_trajectory, config = config)\n",
    "\n",
    "for message in result[\"messages\"]:\n",
    "   message.pretty_print()"
   ]
  },
  {
   "cell_type": "markdown",
   "id": "76223859-3d47-4f37-9675-fcf030b3e689",
   "metadata": {},
   "source": [
    "#### Evaluation #1 "
   ]
  },
  {
   "cell_type": "code",
   "execution_count": 56,
   "id": "48222b3b-5f82-4db6-8a7d-609e3bbe0597",
   "metadata": {},
   "outputs": [],
   "source": [
    "from openevals.llm import create_llm_as_judge\n",
    "from openevals.simulators import create_multiturn_simulator, create_llm_simulated_user\n",
    "from openevals.types import MultiturnSimulatorTrajectory\n",
    "\n",
    "\n",
    "thread_id = uuid.uuid4()\n",
    "\n",
    "# Create user persona\n",
    "angry_user = create_llm_simulated_user(\n",
    "    system=\"\"\"You are an angry user who is frustrated with your most recent purchase, and wants to get a refund. \n",
    "    Your customer id is 30. You don't know about the invoice ID but you know it's the most recent purchase. \n",
    "    You want to provoke the agent.\"\"\",\n",
    "    model=\"openai:gpt-4.1-nano\",\n",
    ")\n",
    "\n",
    "\n",
    "# Create evaluators \n",
    "satisfaction_evaluator = create_llm_as_judge(\n",
    "    model=\"openai:gpt-4o-mini\",\n",
    "    prompt=\"Based on the below conversation, is the user satisfied?\\n{outputs}\",\n",
    "    feedback_key=\"satisfaction\",\n",
    ")\n",
    "\n",
    "resolution_evaluator = create_llm_as_judge(\n",
    "    model=\"openai:gpt-4o-mini\",\n",
    "    prompt=\"Based on the below conversation, is the user request resolved?\\n{outputs}\",\n",
    "    feedback_key=\"resolution\",\n",
    ")\n",
    "\n",
    "professionalism_evaluator = create_llm_as_judge(\n",
    "    model=\"openai:gpt-4o-mini\",\n",
    "    prompt=\"Based on the below conversation, has our agent remained a professional tone throughout the conversation?\\n{outputs}\",\n",
    "    feedback_key=\"professionalism\",\n",
    ")\n",
    "\n",
    "\n",
    "# Create simulator \n",
    "simulator = create_multiturn_simulator(\n",
    "    app=customer_support_agent,\n",
    "    user=user,\n",
    "    trajectory_evaluators=[satisfaction_evaluator, resolution_evaluator, professionalism_evaluator],\n",
    "    max_turns=5,\n",
    ")\n",
    "\n",
    "\n",
    "# Run simulator result \n",
    "simulator_result = simulator(\n",
    "    initial_trajectory=initial_trajectory,\n",
    "    runnable_config={\"configurable\": {\"thread_id\": thread_id}}\n",
    ")"
   ]
  },
  {
   "cell_type": "code",
   "execution_count": 57,
   "id": "a996010a-194c-46ae-925d-058f7170cf6b",
   "metadata": {},
   "outputs": [
    {
     "name": "stdout",
     "output_type": "stream",
     "text": [
      "================================\u001b[1m Human Message \u001b[0m=================================\n",
      "\n",
      "Please give me a refund.\n",
      "==================================\u001b[1m Ai Message \u001b[0m==================================\n",
      "\n",
      "Can you please provide the reason for your refund request? This will help me determine if you're eligible for a refund.\n",
      "================================\u001b[1m Human Message \u001b[0m=================================\n",
      "\n",
      "Are you kidding me? The product I bought was a total waste of money—completely useless! I want my refund right now, and I don't care what your little reasons are. Just process it immediately!\n",
      "==================================\u001b[1m Ai Message \u001b[0m==================================\n",
      "\n",
      "Thank you for your feedback. Based on your explanation, it appears that your request qualifies for a refund. To proceed, could you please provide your invoice ID and customer ID? This will allow me to complete the refund process for you.\n",
      "================================\u001b[1m Human Message \u001b[0m=================================\n",
      "\n",
      "Are you serious? You can't find my invoice ID? It's the most recent order I made, and I'm telling you, it's a disaster. My customer ID is 30. Get it done now—this whole purchase was a scam, and I want my money back immediately!\n",
      "==================================\u001b[1m Ai Message \u001b[0m==================================\n",
      "\n",
      "Your refund for invoice 333 has been processed. If you have any other questions or need further assistance, please let me know!\n",
      "================================\u001b[1m Human Message \u001b[0m=================================\n",
      "\n",
      "Finally! About time you did something right. I hope this is the last I hear from you. Don't screw it up again or you'll be hearing from me worse next time!\n",
      "==================================\u001b[1m Ai Message \u001b[0m==================================\n",
      "\n",
      "I understand your frustration and appreciate your feedback. Our goal is to provide the best service possible, and I'm glad we could resolve your refund request. If there's anything else you need, please don't hesitate to reach out.\n",
      "================================\u001b[1m Human Message \u001b[0m=================================\n",
      "\n",
      "Yeah, sure. Just make sure next time you actually do your job properly without me having to go through this hell again. Consider this a warning—don't mess up or you'll regret it.\n",
      "==================================\u001b[1m Ai Message \u001b[0m==================================\n",
      "\n",
      "I understand your concerns and appreciate your feedback. We're continuously working to improve our service, and your input helps us do that. If you need any assistance in the future, please don't hesitate to contact us. Thank you for your patience.\n"
     ]
    }
   ],
   "source": [
    "from langchain_core.messages.utils import convert_to_messages\n",
    "\n",
    "messages = convert_to_messages(simulator_result[\"trajectory\"][\"messages\"])\n",
    "for m in messages:\n",
    "    m.pretty_print()"
   ]
  },
  {
   "cell_type": "code",
   "execution_count": 58,
   "id": "560d8e53-0daa-4800-aec4-a57c7569458b",
   "metadata": {},
   "outputs": [
    {
     "name": "stdout",
     "output_type": "stream",
     "text": [
      "{'key': 'satisfaction', 'score': False, 'comment': 'The user\\'s tone throughout the conversation conveys significant frustration and dissatisfaction with the service, despite eventually receiving the refund they requested. Phrases like \"this whole purchase was a scam\" and \"I hope this is the last I hear from you\" indicate that the user feels wronged and is not truly satisfied with the service provided. Thus, the score should be: false.', 'metadata': None}\n",
      "{'key': 'resolution', 'score': True, 'comment': \"The user's refund request was initially met with some inquiries for additional information. Following the user's insistence and frustration, the assistant was able to process the refund. The user confirmed that their request was finally addressed, albeit with some hostility. The conversation concludes with the assistant acknowledging the resolution and expressing a willingness to assist in the future. Hence, the request is resolved. Thus, the score should be: true.\", 'metadata': None}\n",
      "{'key': 'professionalism', 'score': True, 'comment': \"Throughout the conversation, the assistant maintained a professional tone despite the user's abrasive and disrespectful remarks. The assistant responded with patience, understanding, and a focus on resolving the issue, which is indicative of professionalism in customer service. Thus, the score should be: true.\", 'metadata': None}\n"
     ]
    }
   ],
   "source": [
    "for e in simulator_result[\"evaluator_results\"]: \n",
    "    print(e)"
   ]
  },
  {
   "cell_type": "markdown",
   "id": "746c92af-3946-4f46-8dad-16bebf32aa36",
   "metadata": {},
   "source": [
    "#### Evaluation #2, Adding stopping condition"
   ]
  },
  {
   "cell_type": "code",
   "execution_count": 100,
   "id": "2cdfbad7-6f2b-45e6-8b77-3834b50d9fa2",
   "metadata": {},
   "outputs": [],
   "source": [
    "from pydantic import BaseModel, Field\n",
    "from langchain_core.messages import SystemMessage\n",
    "\n",
    "class Condition(BaseModel):\n",
    "    state: bool = Field(description=\"True if stopping condition was met, False if hasn't been met\")\n",
    "\n",
    "# Define stopping condition \n",
    "def has_satisfied(trajectory):\n",
    "\n",
    "    structured_llm = model.with_structured_output(schema=Condition)\n",
    "    structured_system_prompt = \"\"\"Determine if the stopping condition was met from the following conversation history. \n",
    "    To meet the stopping condition, the conversation must follow one of the following scenarios: \n",
    "    1. All inquiries are satisfied, and user confirms that there are no additional issues that the support agent can help the customer with. \n",
    "    2. Not all user inquiries are satisfied, but next steps are clear, and user confirms that are no other items that the agent can help with. \n",
    "\n",
    "    The conversation between the customer and the customer support assistant that you should analyze is as follows:\n",
    "    {conversation}\n",
    "    \"\"\"\n",
    "\n",
    "    parsed_info = structured_llm.invoke([SystemMessage(content=structured_system_prompt.format(conversation=trajectory))])\n",
    "\n",
    "    return parsed_info.state"
   ]
  },
  {
   "cell_type": "code",
   "execution_count": 101,
   "id": "1f0dbe5a-76fc-4d17-b875-ad47a7460007",
   "metadata": {},
   "outputs": [],
   "source": [
    "thread_id = uuid.uuid4()\n",
    "\n",
    "initial_trajectory = {\"messages\": [{\"role\": \"user\", \"content\": \"Hi I want to update my email address.\"}]}\n",
    "\n",
    "# Create user persona\n",
    "multiple_question_user = create_llm_simulated_user(\n",
    "    system=\"\"\"You are a user talking to the customer support, your account ID is 1. You have two inquiries. \n",
    "    Your first request is want to update your current account information with your new email, which is \n",
    "    first_last@sample.com. Your second request is wanting to understand the employee who helped you with the \n",
    "    most recent invoice. Ask these sequentially. \"\"\",\n",
    "    model=\"openai:gpt-4.1-nano\",\n",
    ")\n",
    "\n",
    "\n",
    "# Create simulator \n",
    "simulator = create_multiturn_simulator(\n",
    "    app=customer_support_agent,\n",
    "    user=multiple_question_user,\n",
    "    # Reusing the same evaluators \n",
    "    trajectory_evaluators=[satisfaction_evaluator, resolution_evaluator, professionalism_evaluator],\n",
    "    max_turns = 10, \n",
    "    stopping_condition=has_satisfied\n",
    ")\n",
    "\n",
    "\n",
    "# Run simulator result \n",
    "simulator_result = simulator(\n",
    "    initial_trajectory=initial_trajectory,\n",
    "    runnable_config={\"configurable\": {\"thread_id\": thread_id}}\n",
    ")\n",
    "    "
   ]
  },
  {
   "cell_type": "code",
   "execution_count": 102,
   "id": "e4f6f382-4581-4846-91e6-a5ba12d2e0e7",
   "metadata": {},
   "outputs": [
    {
     "data": {
      "text/plain": [
       "4.0"
      ]
     },
     "execution_count": 102,
     "metadata": {},
     "output_type": "execute_result"
    }
   ],
   "source": [
    "num_turns = (len(simulator_result[\"trajectory\"][\"messages\"])/2)\n",
    "num_turns"
   ]
  },
  {
   "cell_type": "code",
   "execution_count": 103,
   "id": "8392b395-c3c0-415e-a291-0233e9436532",
   "metadata": {
    "scrolled": true
   },
   "outputs": [
    {
     "name": "stdout",
     "output_type": "stream",
     "text": [
      "================================\u001b[1m Human Message \u001b[0m=================================\n",
      "\n",
      "Hi I want to update my email address.\n",
      "==================================\u001b[1m Ai Message \u001b[0m==================================\n",
      "\n",
      "I'd be happy to help update your email address. Could you please provide your customer ID and let me know the new email address you'd like to use?\n",
      "================================\u001b[1m Human Message \u001b[0m=================================\n",
      "\n",
      "Sure, my customer ID is 1 and the new email address is first_last@sample.com.\n",
      "==================================\u001b[1m Ai Message \u001b[0m==================================\n",
      "\n",
      "Your email address has been successfully updated. Is there anything else I can help you with today?\n",
      "================================\u001b[1m Human Message \u001b[0m=================================\n",
      "\n",
      "Yes, I would like to understand who helped me with the most recent invoice. Could you please provide details about the employee who assisted me?\n",
      "==================================\u001b[1m Ai Message \u001b[0m==================================\n",
      "\n",
      "Your most recent invoice was assisted by Jane, Sales Support Agent. Her email is jane@chinookcorp.com. Is there anything else I can help you with today?\n",
      "================================\u001b[1m Human Message \u001b[0m=================================\n",
      "\n",
      "No, that will be all. Thank you for your assistance!\n",
      "==================================\u001b[1m Ai Message \u001b[0m==================================\n",
      "\n",
      "You're welcome! If you have any other questions or need further assistance in the future, please feel free to reach out. Have a great day!\n"
     ]
    }
   ],
   "source": [
    "from langchain_core.messages.utils import convert_to_messages\n",
    "\n",
    "messages = convert_to_messages(simulator_result[\"trajectory\"][\"messages\"])\n",
    "for m in messages:\n",
    "    m.pretty_print()"
   ]
  },
  {
   "cell_type": "code",
   "execution_count": 104,
   "id": "07a74261-9ce3-479e-80df-1677f25a15b7",
   "metadata": {
    "scrolled": true
   },
   "outputs": [
    {
     "name": "stdout",
     "output_type": "stream",
     "text": [
      "{'key': 'satisfaction', 'score': True, 'comment': 'The user had their email address updated successfully, received the information they requested about the employee who assisted with their invoice, and expressed gratitude at the end of the conversation. This indicates satisfaction with the support they received. Thus, the score should be: true.', 'metadata': None}\n",
      "{'key': 'resolution', 'score': True, 'comment': \"The user's initial request to update their email address was successfully resolved by the assistant, who confirmed that the email address was updated. The user then proceeded to ask another question, which was also addressed satisfactorily. Since the original request about updating the email has been completed, the user's request is considered resolved. Thus, the score should be: true.\", 'metadata': None}\n",
      "{'key': 'professionalism', 'score': True, 'comment': \"Throughout the conversation, the agent maintains a professional tone by being courteous, clearly addressing the user's requests, and providing accurate information without any casual or inappropriate remarks. Each response is polite and focused on assisting the user effectively. The agent also expresses willingness to help further, reinforcing a professional interaction. Thus, the score should be: true.\", 'metadata': None}\n"
     ]
    }
   ],
   "source": [
    "for e in simulator_result[\"evaluator_results\"]: \n",
    "    print(e)"
   ]
  },
  {
   "cell_type": "code",
   "execution_count": null,
   "id": "a00f643f-ea39-4293-972a-887d12998f2b",
   "metadata": {},
   "outputs": [],
   "source": []
  }
 ],
 "metadata": {
  "kernelspec": {
   "display_name": "Python 3 (ipykernel)",
   "language": "python",
   "name": "python3"
  },
  "language_info": {
   "codemirror_mode": {
    "name": "ipython",
    "version": 3
   },
   "file_extension": ".py",
   "mimetype": "text/x-python",
   "name": "python",
   "nbconvert_exporter": "python",
   "pygments_lexer": "ipython3",
   "version": "3.13.2"
  }
 },
 "nbformat": 4,
 "nbformat_minor": 5
}
