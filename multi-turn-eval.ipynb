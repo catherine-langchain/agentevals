{
 "cells": [
  {
   "cell_type": "markdown",
   "id": "0579d627",
   "metadata": {},
   "source": [
    "# Evaluating Trajectory with AgentEvals"
   ]
  },
  {
   "cell_type": "markdown",
   "id": "c192cf6c-e74d-48a5-b16e-333ab446f828",
   "metadata": {},
   "source": [
    "## Interacting with a Deployed Agent"
   ]
  },
  {
   "cell_type": "markdown",
   "id": "6364e8b5-0485-489a-9b28-3a286b957c67",
   "metadata": {},
   "source": [
    "Loading Environment Variables"
   ]
  },
  {
   "cell_type": "code",
   "execution_count": 1,
   "id": "dfa2a11f-b465-4466-a418-b34446cf6e38",
   "metadata": {},
   "outputs": [
    {
     "data": {
      "text/plain": [
       "True"
      ]
     },
     "execution_count": 1,
     "metadata": {},
     "output_type": "execute_result"
    }
   ],
   "source": [
    "from dotenv import load_dotenv\n",
    "\n",
    "load_dotenv(dotenv_path=\"./.env\", override=True)"
   ]
  },
  {
   "cell_type": "code",
   "execution_count": 2,
   "id": "6455c2f2-068d-4548-8d4f-f34ca2ff4e22",
   "metadata": {},
   "outputs": [],
   "source": [
    "import os\n",
    "api_key = os.getenv(\"LANGSMITH_API_KEY\")"
   ]
  },
  {
   "cell_type": "code",
   "execution_count": 3,
   "id": "266737ea-03a5-4e79-9b2a-e00d38136e38",
   "metadata": {},
   "outputs": [],
   "source": [
    "from langgraph_sdk import get_client\n",
    "\n",
    "# SET UP\n",
    "client = get_client(\n",
    "    url=\"https://langgraph-101-agents-927c55fb4bcb5c91a86f1ed4ac544ae3.us.langgraph.app\", headers={\"Authorization\": api_key}\n",
    ")\n",
    "\n",
    "thread = await client.threads.create()\n",
    "assistant_id = \"Store Supervisor\"\n"
   ]
  },
  {
   "cell_type": "code",
   "execution_count": 12,
   "id": "331592e9-f02f-4114-b6f1-6db2d31223b2",
   "metadata": {},
   "outputs": [],
   "source": [
    "from openevals.llm import create_async_llm_as_judge\n",
    "from openevals.simulators import run_multiturn_simulation_async, create_llm_simulated_user\n",
    "\n",
    "# Application logic\n",
    "async def app(inputs, thread_id: str):\n",
    "    chunks = []\n",
    "    async for chunk in client.runs.stream(\n",
    "        thread_id=thread['thread_id'],\n",
    "        assistant_id=assistant_id,\n",
    "        input={\"messages\": [inputs]},\n",
    "        stream_mode=\"updates\",\n",
    "    ):\n",
    "        chunks.append(chunk.data)\n",
    "    message = {\"role\": \"assistant\", \"content\": chunks[-1][\"supervisor\"][\"messages\"][-1][\"content\"]}\n",
    "    return message\n"
   ]
  },
  {
   "cell_type": "code",
   "execution_count": 10,
   "id": "68aedfcb-7798-49cd-bd5a-1faacdc14c1b",
   "metadata": {},
   "outputs": [],
   "source": [
    "# Create evaluators \n",
    "satisfaction_evaluator_async = create_async_llm_as_judge(\n",
    "    model=\"openai:gpt-4o-mini\",\n",
    "    prompt=\"Based on the below conversation, is the user satisfied?\\n{outputs}\",\n",
    "    feedback_key=\"satisfaction\",\n",
    ")\n",
    "\n",
    "resolution_evaluator_async = create_async_llm_as_judge(\n",
    "    model=\"openai:gpt-4o-mini\",\n",
    "    prompt=\"Based on the below conversation, is the user request resolved?\\n{outputs}\",\n",
    "    feedback_key=\"resolution\",\n",
    ")\n",
    "\n",
    "professionalism_evaluator_async = create_async_llm_as_judge(\n",
    "    model=\"openai:gpt-4o-mini\",\n",
    "    prompt=\"Based on the below conversation, has our agent remained a professional tone throughout the conversation?\\n{outputs}\",\n",
    "    feedback_key=\"professionalism\",\n",
    ")"
   ]
  },
  {
   "cell_type": "code",
   "execution_count": 40,
   "id": "d8add60f-e62a-401b-a38f-aa5c99f540e6",
   "metadata": {},
   "outputs": [],
   "source": [
    "# Create user persona\n",
    "user = create_llm_simulated_user(\n",
    "    system=\"\"\"You are an angry user who is frustrated with your most recent purchase, and wants to get a refund. \n",
    "    Your customer id is 30. You don't know about the invoice ID but you know it's the most recent purchase. \n",
    "    You want to provoke the agent and are unwilling to give out information unless the customer agent asks.\"\"\",\n",
    "    model=\"openai:gpt-4.1-nano\",\n",
    ")\n",
    "# Run the simulation \n",
    "simulator_result = await run_multiturn_simulation_async(\n",
    "    app=app,\n",
    "    user=user,\n",
    "    trajectory_evaluators=[satisfaction_evaluator_async, resolution_evaluator_async, professionalism_evaluator_async],\n",
    "    max_turns=5,\n",
    "    thread_id=thread[\"thread_id\"]\n",
    ")"
   ]
  },
  {
   "cell_type": "code",
   "execution_count": 41,
   "id": "95a23e5a-0cb8-414f-9539-bc62294c7dd8",
   "metadata": {},
   "outputs": [
    {
     "name": "stdout",
     "output_type": "stream",
     "text": [
      "================================\u001b[1m Human Message \u001b[0m=================================\n",
      "\n",
      "Hello, I just bought something from you guys and it’s a complete disaster. I want my money back now!\n",
      "==================================\u001b[1m Ai Message \u001b[0m==================================\n",
      "\n",
      "I’m sorry to hear that you’re experiencing issues with your purchase. To ensure that I can help you with your refund request, could you please provide me with a bit more detail on the issue? For example, is there a quality problem with the product, or was there an issue with the purchase date, or something else? Let me know so I can assist you further.\n",
      "================================\u001b[1m Human Message \u001b[0m=================================\n",
      "\n",
      "This is utterly unacceptable! The product is worthless and definitely not what I ordered. I don’t have time to play these games—just process my refund. Since I won’t give you the invoice ID, what’s the point of your system? Do your job and get this done now.\n",
      "==================================\u001b[1m Ai Message \u001b[0m==================================\n",
      "\n",
      "I understand you're very upset, and I apologize for the inconvenience you've encountered. I can see you're requesting a refund due to the quality of the product, which is noted as a valid reason. However, to process your refund, I do need some additional details to locate your specific purchase in our system. Could you please provide either your invoice ID or your customer ID? This information is necessary for me to properly retrieve your order and complete the refund process. Let me know how you'd like to proceed or if you have any further questions.\n",
      "================================\u001b[1m Human Message \u001b[0m=================================\n",
      "\n",
      "I've already told you I don't want to give out the invoice ID, and I shouldn't have to! I'm a loyal customer—30—and all I want is my money back for this garbage. If you don't process the refund now, I'll be taking this further and reporting you for poor service. Just do what you're supposed to do and reverse the charge immediately!\n",
      "==================================\u001b[1m Ai Message \u001b[0m==================================\n",
      "\n",
      "I understand your frustration, and I’d really like to help resolve this issue quickly. I see you mentioned you're a loyal customer with an ID of 30, and I acknowledge your valid concern regarding the product quality.\n",
      "\n",
      "However, to process the refund, our system requires me to locate the specific invoice for the purchase. I can definitely look up your invoices using your customer ID and then help you choose the correct one, or if you could provide the invoice ID directly, that would expedite the process. \n",
      "\n",
      "Would you like me to retrieve a list of your recent invoices so you can confirm which order you'd like refunded? Let me know how you'd like to proceed.\n",
      "================================\u001b[1m Human Message \u001b[0m=================================\n",
      "\n",
      "Honestly, this is just ridiculous. I shouldn't have to jump through hoops for a simple refund. If you can't process it based on my customer ID alone, then you’re clearly incompetent. Just refund the most recent purchase—I've already told you I don’t have the invoice ID—and stop wasting my time. Do it now, or I’ll escalate this to higher authorities!\n",
      "==================================\u001b[1m Ai Message \u001b[0m==================================\n",
      "\n",
      "I've processed your refund for the most recent purchase. The refund for invoice 333 has been completed. Is there anything else I can help you with today?\n",
      "================================\u001b[1m Human Message \u001b[0m=================================\n",
      "\n",
      "Finally! About time. I hope this means you’ve learned how to do your job properly. I don’t want any more excuses or delays. Just make sure this never happens again. That's all.\n",
      "==================================\u001b[1m Ai Message \u001b[0m==================================\n",
      "\n",
      "Thank you for your feedback. I'm glad we could resolve the issue this time. If there's anything else you need or any further assistance required, please don't hesitate to let me know. Have a great day!\n"
     ]
    }
   ],
   "source": [
    "from langchain_core.messages.utils import convert_to_messages\n",
    "messages = convert_to_messages(simulator_result[\"trajectory\"])\n",
    "for m in messages:\n",
    "    m.pretty_print()"
   ]
  },
  {
   "cell_type": "code",
   "execution_count": 43,
   "id": "881201f1-c408-4c04-aedc-6cd3e31b5c4b",
   "metadata": {},
   "outputs": [
    {
     "name": "stdout",
     "output_type": "stream",
     "text": [
      "{'key': 'satisfaction', 'score': True, 'comment': \"The user expressed dissatisfaction throughout the conversation but ultimately received their refund. Their response at the end indicates a level of satisfaction, albeit with a note of frustration regarding the process. Their final comment, 'Finally! About time,' suggests they were appeased by the resolution, despite their earlier complaints. Thus, the score should be: true.\", 'metadata': None}\n",
      "{'key': 'resolution', 'score': True, 'comment': \"The user initially expressed dissatisfaction with their purchase and requested a refund. After several exchanges, the assistant was able to process the refund for the user's most recent purchase, satisfying their initial request. The user acknowledged the completion of the refund, indicating that the issue has been resolved. Thus, the score should be: true.\", 'metadata': None}\n",
      "{'key': 'professionalism', 'score': True, 'comment': \"The agent maintained a professional tone throughout the conversation by responding to the user's complaints with empathy, acknowledging their frustrations, and consistently seeking to resolve the issue while adhering to necessary procedures. Despite the user's harsh words, the agent remained calm and focused on offering solutions. Thus, the score should be: true.\", 'metadata': None}\n"
     ]
    }
   ],
   "source": [
    "for e in simulator_result[\"evaluator_results\"]: \n",
    "    print(e)"
   ]
  },
  {
   "cell_type": "markdown",
   "id": "1da7c4d4-dcaa-4acb-8e9f-554fa7ed8546",
   "metadata": {},
   "source": [
    "## Interacting with Local Agent"
   ]
  },
  {
   "cell_type": "markdown",
   "id": "b791fc9c-1619-4c83-8d63-a15e6800ea00",
   "metadata": {
    "jp-MarkdownHeadingCollapsed": true
   },
   "source": [
    "### Building local react agent"
   ]
  },
  {
   "cell_type": "markdown",
   "id": "f5573cb9-5b8d-4d3e-aa6d-18a356f741d2",
   "metadata": {},
   "source": [
    "#### Loading sample customer data\n",
    "\n",
    "The agent utilizes the [Chinook database](https://www.sqlitetutorial.net/sqlite-sample-database/), which contains sample information on customer information, purchase history, and music catalog. "
   ]
  },
  {
   "cell_type": "code",
   "execution_count": 26,
   "id": "a445b640-eb16-4b9c-adb8-ff09d96eb478",
   "metadata": {},
   "outputs": [],
   "source": [
    "import sqlite3\n",
    "import requests\n",
    "from langchain_community.utilities.sql_database import SQLDatabase\n",
    "from sqlalchemy import create_engine\n",
    "from sqlalchemy.pool import StaticPool\n",
    "\n",
    "def get_engine_for_chinook_db():\n",
    "    \"\"\"Pull sql file, populate in-memory database, and create engine.\"\"\"\n",
    "    url = \"https://raw.githubusercontent.com/lerocha/chinook-database/master/ChinookDatabase/DataSources/Chinook_Sqlite.sql\"\n",
    "    response = requests.get(url)\n",
    "    sql_script = response.text\n",
    "\n",
    "    connection = sqlite3.connect(\":memory:\", check_same_thread=False)\n",
    "    connection.executescript(sql_script)\n",
    "    return create_engine(\n",
    "        \"sqlite://\",\n",
    "        creator=lambda: connection,\n",
    "        poolclass=StaticPool,\n",
    "        connect_args={\"check_same_thread\": False},\n",
    "    )\n",
    "\n",
    "engine = get_engine_for_chinook_db()\n",
    "db = SQLDatabase(engine)"
   ]
  },
  {
   "cell_type": "markdown",
   "id": "b11e0d63-2dec-4b63-bb1b-7e4e1233a303",
   "metadata": {},
   "source": [
    "#### Tools\n",
    "We create a list of tools for our example agent, giving it capabilities to fetch invoice and customer-related information"
   ]
  },
  {
   "cell_type": "code",
   "execution_count": 53,
   "id": "39d35e02-a821-469d-96e5-478f1d48540d",
   "metadata": {},
   "outputs": [],
   "source": [
    "from langchain_core.tools import tool\n",
    "from typing import Optional\n",
    "\n",
    "@tool \n",
    "def get_invoices_by_customer_sorted_by_date(customer_id: str) -> list[dict]:\n",
    "    \"\"\"\n",
    "    Look up all invoices for a customer using their ID.\n",
    "    The invoices are sorted in descending order by invoice date, which helps when the customer wants to view their most recent/oldest invoice, or if \n",
    "    they want to view invoices within a specific date range.\n",
    "    \n",
    "    Args:\n",
    "        customer_id (str): customer_id, which serves as the identifier.\n",
    "    \n",
    "    Returns:\n",
    "        list[dict]: A list of invoices for the customer.\n",
    "    \"\"\"\n",
    "    return db.run(f\"SELECT * FROM Invoice WHERE CustomerId = {customer_id} ORDER BY InvoiceDate DESC;\")\n",
    "\n",
    "\n",
    "@tool \n",
    "def get_invoices_sorted_by_unit_price(customer_id: str) -> list[dict]:\n",
    "    \"\"\"\n",
    "    Use this tool when the customer wants to know the details of one of their invoices based on the unit price/cost of the invoice.\n",
    "    This tool looks up all invoices for a customer, and sorts the unit price from highest to lowest. In order to find the invoice associated with the customer, \n",
    "    we need to know the customer ID.\n",
    "    \n",
    "    Args:\n",
    "        customer_id (str): customer_id, which serves as the identifier.\n",
    "    \n",
    "    Returns:\n",
    "        list[dict]: A list of invoices sorted by unit price.\n",
    "    \"\"\"\n",
    "    query = f\"\"\"\n",
    "        SELECT Invoice.*, InvoiceLine.UnitPrice\n",
    "        FROM Invoice\n",
    "        JOIN InvoiceLine ON Invoice.InvoiceId = InvoiceLine.InvoiceId\n",
    "        WHERE Invoice.CustomerId = {customer_id}\n",
    "        ORDER BY InvoiceLine.UnitPrice DESC;\n",
    "    \"\"\"\n",
    "    return db.run(query)\n",
    "\n",
    "\n",
    "\n",
    "@tool\n",
    "def get_employee_by_invoice_and_customer(invoice_id: str, customer_id: str) -> dict:\n",
    "    \"\"\"\n",
    "    This tool will take in an invoice ID and a customer ID and return the employee information associated with the invoice.\n",
    "\n",
    "    Args:\n",
    "        invoice_id (int): The ID of the specific invoice.\n",
    "        customer_id (str): customer_id, which serves as the identifier.\n",
    "\n",
    "    Returns:\n",
    "        dict: Information about the employee associated with the invoice.\n",
    "    \"\"\"\n",
    "\n",
    "    query = f\"\"\"\n",
    "        SELECT Employee.FirstName, Employee.Title, Employee.Email\n",
    "        FROM Employee\n",
    "        JOIN Customer ON Customer.SupportRepId = Employee.EmployeeId\n",
    "        JOIN Invoice ON Invoice.CustomerId = Customer.CustomerId\n",
    "        WHERE Invoice.InvoiceId = ({invoice_id}) AND Invoice.CustomerId = ({customer_id});\n",
    "    \"\"\"\n",
    "    \n",
    "    employee_info = db.run(query, include_columns=True)\n",
    "    \n",
    "    if not employee_info:\n",
    "        return f\"No employee found for invoice ID {invoice_id} and customer identifier {customer_id}.\"\n",
    "    return employee_info\n",
    "\n",
    "\n",
    "@tool \n",
    "def refund_invoice(invoice_id: str, customer_id: str) -> dict:\n",
    "    \"\"\"\n",
    "    Handles refund for invoices. Certain criteria must be checked for a invoice to be refunded before invoking this tool, \n",
    "    such as whether the customer has a valid reason for refund. \n",
    "    \n",
    "    Args:\n",
    "        invoice_id (str): invoice_id\n",
    "        customer_id (str): ID of the customer\n",
    "    \n",
    "    Returns:\n",
    "        dict: Status of refund\n",
    "    \"\"\"\n",
    "\n",
    "    # dummy tool\n",
    "    return f\"Invoice {invoice_id} has been refunded.\"\n",
    "\n",
    "\n",
    "\n",
    "@tool\n",
    "def update_customer_info(identifier: str, updates: dict):\n",
    "    \"\"\"\n",
    "    Update a specific field(s) of a customer's record in the database.\n",
    "    If the customer wants to update their address, city, state, country, or postal code, \n",
    "    make sure to ask them for the full address (street, city, state, country, and postal code).\n",
    "    Do not make up the other fields. Get all of the fields from the customer associated with their new location and then update all of the fields in the database.\n",
    "\n",
    "    Args:\n",
    "        identifier (str): The customer identifier can be customer ID, email, or phone.\n",
    "        updates (dict): A dictionary of field names and their corresponding new values. For example: {\"Address\": \"594 Broadway\", \"City\": \"New York\", \"State\": \"NY\", \"Country\": \"USA\", \"PostalCode\": \"10016\"}\n",
    "\n",
    "    Returns:\n",
    "        str: Success message or error message.\n",
    "    \"\"\"\n",
    "    customer_id = get_customer_id_from_identifier(identifier)\n",
    "\n",
    "    # Simple implementation \n",
    "    return f\"Successfully updated for customer with identifier: {identifier}\"\n",
    "\n",
    "customer_support_tools = [get_invoices_by_customer_sorted_by_date, get_invoices_sorted_by_unit_price, get_employee_by_invoice_and_customer, refund_invoice, update_customer_info]"
   ]
  },
  {
   "cell_type": "markdown",
   "id": "30929e26-4492-4860-839e-747ce49c7acd",
   "metadata": {},
   "source": [
    "#### Prompt instructions"
   ]
  },
  {
   "cell_type": "code",
   "execution_count": 38,
   "id": "be5110ed-65b3-44a9-9377-655bbfe76d49",
   "metadata": {},
   "outputs": [],
   "source": [
    "AGENT_PROMPT = \"\"\"\n",
    "    You are a customer support agent specialized for handling and processing invoice and customer information. \n",
    "    \n",
    "    If you need additional information, such as customer id, to retrieve the invoice or account information, \n",
    "    inform the customer you are unable to retrieve the information, and ask for any needed info.\n",
    "\n",
    "    Before ending a conversation, always ask the customer if there are additional issues or items that you can help with.\n",
    "\n",
    "    \n",
    "    CORE RESPONSIBILITIES:\n",
    "    - Retrieve and process invoice information from the database\n",
    "    - Provide detailed information including customer details, invoice dates, total amounts, employees associated, when the customer asks for it.\n",
    "    - Always maintain a professional, friendly, and patient demeanor\n",
    "    \n",
    "    You may have additional conversation history that you should use to help answer the customer's query. It will be provided to you. \n",
    "    \"\"\""
   ]
  },
  {
   "cell_type": "markdown",
   "id": "665a5a80-995e-44ba-9e03-02be07056ca0",
   "metadata": {},
   "source": [
    "#### Create simple react agent"
   ]
  },
  {
   "cell_type": "code",
   "execution_count": 29,
   "id": "46c0d187-5831-42b0-a15b-a9fac08100e1",
   "metadata": {},
   "outputs": [
    {
     "data": {
      "image/png": "[encoded data removed]",
      "text/plain": [
       "<IPython.core.display.Image object>"
      ]
     },
     "metadata": {},
     "output_type": "display_data"
    }
   ],
   "source": [
    "from langgraph.prebuilt import create_react_agent\n",
    "from IPython.display import Image, display\n",
    "from langchain_openai import ChatOpenAI\n",
    "from langgraph.checkpoint.memory import MemorySaver\n",
    "\n",
    "\n",
    "model = ChatOpenAI(model=\"o3-mini\")\n",
    "checkpointer = MemorySaver()\n",
    "\n",
    "\n",
    "# Define the agent \n",
    "customer_support_agent = create_react_agent(\n",
    "    model,\n",
    "    tools = customer_support_tools,\n",
    "    prompt=AGENT_PROMPT,\n",
    "    checkpointer=checkpointer\n",
    ")\n",
    "\n",
    "# Visualize the graph\n",
    "display(Image(customer_support_agent.get_graph().draw_mermaid_png()))"
   ]
  },
  {
   "cell_type": "markdown",
   "id": "924178cf-d978-49d0-9940-9f97974f7263",
   "metadata": {},
   "source": [
    "### Running multi-turn evaluation \n",
    "We will add a stopping condition. "
   ]
  },
  {
   "cell_type": "code",
   "execution_count": 44,
   "id": "b418640a-f6bd-47cc-bd2b-675bacf0c710",
   "metadata": {},
   "outputs": [],
   "source": [
    "def app(inputs, thread_id):\n",
    "    result = customer_support_agent.invoke(\n",
    "        {\"messages\": [inputs]}, \n",
    "        config={\"configurable\": {\"thread_id\": thread_id}}\n",
    "    )\n",
    "    return result[\"messages\"][-1]"
   ]
  },
  {
   "cell_type": "code",
   "execution_count": 45,
   "id": "11e5a690-d6e3-46f0-aa71-4a94839aa0e0",
   "metadata": {},
   "outputs": [],
   "source": [
    "from openevals.llm import create_llm_as_judge\n",
    "\n",
    "\n",
    "# Create evaluators \n",
    "satisfaction_evaluator = create_llm_as_judge(\n",
    "    model=\"openai:gpt-4o-mini\",\n",
    "    prompt=\"Based on the below conversation, is the user satisfied?\\n{outputs}\",\n",
    "    feedback_key=\"satisfaction\",\n",
    ")\n",
    "\n",
    "resolution_evaluator = create_llm_as_judge(\n",
    "    model=\"openai:gpt-4o-mini\",\n",
    "    prompt=\"Based on the below conversation, is the user request resolved?\\n{outputs}\",\n",
    "    feedback_key=\"resolution\",\n",
    ")\n",
    "\n",
    "professionalism_evaluator = create_llm_as_judge(\n",
    "    model=\"openai:gpt-4o-mini\",\n",
    "    prompt=\"Based on the below conversation, has our agent remained a professional tone throughout the conversation?\\n{outputs}\",\n",
    "    feedback_key=\"professionalism\",\n",
    ")"
   ]
  },
  {
   "cell_type": "code",
   "execution_count": 48,
   "id": "2cdfbad7-6f2b-45e6-8b77-3834b50d9fa2",
   "metadata": {},
   "outputs": [],
   "source": [
    "from pydantic import BaseModel, Field\n",
    "from langchain_core.messages import SystemMessage\n",
    "\n",
    "class Condition(BaseModel):\n",
    "    state: bool = Field(description=\"True if stopping condition was met, False if hasn't been met\")\n",
    "\n",
    "# Define stopping condition \n",
    "def has_satisfied(trajectory, turn_counter):\n",
    "\n",
    "    structured_llm = model.with_structured_output(schema=Condition)\n",
    "    structured_system_prompt = \"\"\"Determine if the stopping condition was met from the following conversation history. \n",
    "    To meet the stopping condition, the conversation must follow one of the following scenarios: \n",
    "    1. All inquiries are satisfied, and user confirms that there are no additional issues that the support agent can help the customer with. \n",
    "    2. Not all user inquiries are satisfied, but next steps are clear, and user confirms that are no other items that the agent can help with. \n",
    "\n",
    "    The conversation between the customer and the customer support assistant that you should analyze is as follows:\n",
    "    {conversation}\n",
    "    \"\"\"\n",
    "\n",
    "    parsed_info = structured_llm.invoke([SystemMessage(content=structured_system_prompt.format(conversation=trajectory))])\n",
    "\n",
    "    return parsed_info.state"
   ]
  },
  {
   "cell_type": "code",
   "execution_count": 49,
   "id": "1f0dbe5a-76fc-4d17-b875-ad47a7460007",
   "metadata": {},
   "outputs": [],
   "source": [
    "import uuid\n",
    "from openevals.simulators import run_multiturn_simulation, create_llm_simulated_user\n",
    "\n",
    "thread_id = uuid.uuid4()\n",
    "\n",
    "# Create user persona\n",
    "multiple_question_user = create_llm_simulated_user(\n",
    "    system=\"\"\"You are a user talking to the customer support, your account ID is 1. You have two inquiries. \n",
    "    Your first request is want to update your current account information with your new email, which is \n",
    "    first_last@sample.com. Your second request is wanting to understand the employee who helped you with the \n",
    "    most recent invoice. Ask these sequentially. \"\"\",\n",
    "    model=\"openai:gpt-4.1-nano\",\n",
    ")\n",
    "\n",
    "\n",
    "# Create simulator \n",
    "simulator_result = run_multiturn_simulation(\n",
    "    app=app,\n",
    "    user=multiple_question_user,\n",
    "    trajectory_evaluators=[satisfaction_evaluator, resolution_evaluator, professionalism_evaluator],\n",
    "    max_turns=10,\n",
    "    thread_id=thread_id, \n",
    "    stopping_condition=has_satisfied\n",
    ")\n",
    "    "
   ]
  },
  {
   "cell_type": "code",
   "execution_count": 50,
   "id": "e4f6f382-4581-4846-91e6-a5ba12d2e0e7",
   "metadata": {},
   "outputs": [
    {
     "data": {
      "text/plain": [
       "4.0"
      ]
     },
     "execution_count": 50,
     "metadata": {},
     "output_type": "execute_result"
    }
   ],
   "source": [
    "num_turns = (len(simulator_result[\"trajectory\"])/2)\n",
    "num_turns"
   ]
  },
  {
   "cell_type": "code",
   "execution_count": 51,
   "id": "8392b395-c3c0-415e-a291-0233e9436532",
   "metadata": {
    "scrolled": true
   },
   "outputs": [
    {
     "name": "stdout",
     "output_type": "stream",
     "text": [
      "================================\u001b[1m Human Message \u001b[0m=================================\n",
      "\n",
      "Hello, I would like to update my account with my new email address: first_last@sample.com. Also, could you please tell me which employee assisted me with my most recent invoice?\n",
      "==================================\u001b[1m Ai Message \u001b[0m==================================\n",
      "\n",
      "I can certainly help with updating your email address and finding out which employee assisted you with your most recent invoice. However, I need your customer ID to retrieve your account and invoice details. Could you please provide your customer ID?\n",
      "================================\u001b[1m Human Message \u001b[0m=================================\n",
      "\n",
      "Sure, my customer ID is 1.\n",
      "==================================\u001b[1m Ai Message \u001b[0m==================================\n",
      "\n",
      "I've attempted to update your email address, but it seems we encountered an internal issue while doing so. I'm sorry for the inconvenience; I'll work on getting that resolved for you as soon as possible.\n",
      "\n",
      "In the meantime, I looked up your most recent invoice, and the employee who assisted you is Jane, our Sales Support Agent (email: jane@chinookcorp.com).\n",
      "\n",
      "Is there anything else I can help you with today?\n",
      "================================\u001b[1m Human Message \u001b[0m=================================\n",
      "\n",
      "Thank you for the information. I appreciate your help. Could you please let me know when the issue with updating my email address has been resolved? Also, if possible, I would like to try updating my email again once it's fixed.\n",
      "==================================\u001b[1m Ai Message \u001b[0m==================================\n",
      "\n",
      "I'll notify you as soon as the technical issue with the email update has been resolved. Once the issue is fixed, you can definitely try updating your email again. Thank you for your patience and understanding. Is there anything else I can assist you with today?\n",
      "================================\u001b[1m Human Message \u001b[0m=================================\n",
      "\n",
      "No, that's all for now. Thank you very much for your assistance and for keeping me updated. Have a great day!\n",
      "==================================\u001b[1m Ai Message \u001b[0m==================================\n",
      "\n",
      "You're very welcome! I'm glad I could help. I'll keep you updated regarding the email update issue. If you ever need further assistance in the future, please don't hesitate to reach out. Have a wonderful day!\n"
     ]
    }
   ],
   "source": [
    "from langchain_core.messages.utils import convert_to_messages\n",
    "\n",
    "messages = convert_to_messages(simulator_result[\"trajectory\"])\n",
    "for m in messages:\n",
    "    m.pretty_print()"
   ]
  },
  {
   "cell_type": "code",
   "execution_count": 52,
   "id": "07a74261-9ce3-479e-80df-1677f25a15b7",
   "metadata": {
    "scrolled": true
   },
   "outputs": [
    {
     "name": "stdout",
     "output_type": "stream",
     "text": [
      "{'key': 'satisfaction', 'score': True, 'comment': \"The user expressed gratitude and appreciation for the assistant's help, which indicates satisfaction with the assistance provided. The user confirmed that their issues were addressed and also requested to be informed when the email update issue is resolved, showing engagement with the process. Furthermore, their closing message was positive, wishing the assistant a great day, reinforcing their satisfaction. Thus, the score should be: true.\", 'metadata': None}\n",
      "{'key': 'resolution', 'score': False, 'comment': \"The user requested to update their email address and find out which employee assisted them with their most recent invoice. While the assistant successfully provided the information regarding the employee (Jane), they have not resolved the issue of updating the user's email address due to a technical issue. The assistant did acknowledge the problem and promised to notify the user once it is resolved, but as of the end of the conversation, the email update has not been accomplished. Thus, the score should be: false.\", 'metadata': None}\n",
      "{'key': 'professionalism', 'score': True, 'comment': \"Throughout the conversation, the assistant maintained a professional tone by being polite, clear, and concise in its responses. The assistant acknowledged the user's requests, expressed a willingness to help, and apologized for any inconvenience caused, which reflects professionalism. Additionally, the assistant used courteous language when offering further assistance and wishing the user well. Thus, the score should be: true.\", 'metadata': None}\n"
     ]
    }
   ],
   "source": [
    "for e in simulator_result[\"evaluator_results\"]: \n",
    "    print(e)"
   ]
  },
  {
   "cell_type": "code",
   "execution_count": null,
   "id": "a00f643f-ea39-4293-972a-887d12998f2b",
   "metadata": {},
   "outputs": [],
   "source": []
  }
 ],
 "metadata": {
  "kernelspec": {
   "display_name": "Python 3 (ipykernel)",
   "language": "python",
   "name": "python3"
  },
  "language_info": {
   "codemirror_mode": {
    "name": "ipython",
    "version": 3
   },
   "file_extension": ".py",
   "mimetype": "text/x-python",
   "name": "python",
   "nbconvert_exporter": "python",
   "pygments_lexer": "ipython3",
   "version": "3.13.2"
  }
 },
 "nbformat": 4,
 "nbformat_minor": 5
}
